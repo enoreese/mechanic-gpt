{
  "nbformat": 4,
  "nbformat_minor": 0,
  "metadata": {
    "colab": {
      "provenance": []
    },
    "kernelspec": {
      "name": "python3",
      "display_name": "Python 3"
    },
    "language_info": {
      "name": "python"
    }
  },
  "cells": [
    {
      "cell_type": "code",
      "execution_count": null,
      "metadata": {
        "id": "LAyGuZVXBVSm"
      },
      "outputs": [],
      "source": [
        "import pandas as pd\n",
        "import numpy as np"
      ]
    },
    {
      "cell_type": "code",
      "source": [
        "DATA_URL = \"https://storage.googleapis.com/public_bkt/edmunds_forum.json\""
      ],
      "metadata": {
        "id": "72cTa_kyjcdX"
      },
      "execution_count": null,
      "outputs": []
    },
    {
      "cell_type": "code",
      "source": [
        "forumn_data = pd.read_json(DATA_URL)\n",
        "forumn_data.head()"
      ],
      "metadata": {
        "colab": {
          "base_uri": "https://localhost:8080/",
          "height": 581
        },
        "id": "ccBMz2ZCj-d6",
        "outputId": "c31e97b0-45ad-4620-8922-6774faebf247"
      },
      "execution_count": null,
      "outputs": [
        {
          "output_type": "execute_result",
          "data": {
            "text/plain": [
              "                                               title  \\\n",
              "0          \\n2023 Volvo XC90 Lease Deals and Prices    \n",
              "1  \\nPICTURES Included: Mass Play in Steering wheel    \n",
              "2                        \\nTransmission Fluid Leak?    \n",
              "3  \\n2009 Honda Accord Defective Piston Rings - O...   \n",
              "4  \\nProject Cars--You Get to Vote on \"Hold 'em o...   \n",
              "\n",
              "                                                link  \\\n",
              "0  https://forums.edmunds.com/discussion/68506/vo...   \n",
              "1  https://forums.edmunds.com/discussion/70210/fo...   \n",
              "2  https://forums.edmunds.com/discussion/70208/sa...   \n",
              "3  https://forums.edmunds.com/discussion/37703/ho...   \n",
              "4  https://forums.edmunds.com/discussion/4119/gen...   \n",
              "\n",
              "                                            metadata         author  \\\n",
              "0  {'views': '19,093 views', 'comments': '1,401 c...          kyfdx   \n",
              "1  {'views': '26 views', 'comments': '0 comments'...          Knarf   \n",
              "2  {'views': '21 views', 'comments': '1 comment',...     RubberMech   \n",
              "3  {'views': '3,223 views', 'comments': '6 commen...        winne15   \n",
              "4  {'views': '242,604 views', 'comments': '41,833...  Mr_Shiftright   \n",
              "\n",
              "  author_post_count author_role_title  \\\n",
              "0           225,138         Moderator   \n",
              "1                 1            Member   \n",
              "2                 1            Member   \n",
              "3                 1            Member   \n",
              "4            64,481            Member   \n",
              "\n",
              "                                         description  \\\n",
              "0  \\nAsk your 2023 XC90 lease questions here! Get...   \n",
              "1  \\n*Please review the photos provided before re...   \n",
              "2  \\nHi I have this problem that is making me wor...   \n",
              "3  \\nI just recently learned that my car (2009 Ho...   \n",
              "4  \\nI'm going to post a link to a \"project car\" ...   \n",
              "\n",
              "                                               image  \\\n",
              "0                                               None   \n",
              "1                                               None   \n",
              "2  https://us.v-cdn.net/5021145/uploads/editor/ql...   \n",
              "3                                               None   \n",
              "4                                               None   \n",
              "\n",
              "                                                tags  \\\n",
              "0  [Volvo, Volvo XC90, Repairs & Maintenance, 202...   \n",
              "1  [Ford, Safety, Repairs & Maintenance, Engine, ...   \n",
              "2  [Saturn, Saturn ION, Repairs & Maintenance, Tr...   \n",
              "3  [Honda, Honda Accord, Repairs & Maintenance, E...   \n",
              "4  [Classic Cars, Tuning & Modification, Repairs ...   \n",
              "\n",
              "                                            comments  \n",
              "0  [{'comment_author': 'rbxklg7', 'comment_author...  \n",
              "1                                                 []  \n",
              "2  [{'comment_author': 'thecardoc3', 'comment_aut...  \n",
              "3  [{'comment_author': 'isellhondas', 'comment_au...  \n",
              "4  [{'comment_author': 'Mr_Shiftright', 'comment_...  "
            ],
            "text/html": [
              "\n",
              "  <div id=\"df-f2fd3731-9e2e-4f1c-a202-528955f93344\" class=\"colab-df-container\">\n",
              "    <div>\n",
              "<style scoped>\n",
              "    .dataframe tbody tr th:only-of-type {\n",
              "        vertical-align: middle;\n",
              "    }\n",
              "\n",
              "    .dataframe tbody tr th {\n",
              "        vertical-align: top;\n",
              "    }\n",
              "\n",
              "    .dataframe thead th {\n",
              "        text-align: right;\n",
              "    }\n",
              "</style>\n",
              "<table border=\"1\" class=\"dataframe\">\n",
              "  <thead>\n",
              "    <tr style=\"text-align: right;\">\n",
              "      <th></th>\n",
              "      <th>title</th>\n",
              "      <th>link</th>\n",
              "      <th>metadata</th>\n",
              "      <th>author</th>\n",
              "      <th>author_post_count</th>\n",
              "      <th>author_role_title</th>\n",
              "      <th>description</th>\n",
              "      <th>image</th>\n",
              "      <th>tags</th>\n",
              "      <th>comments</th>\n",
              "    </tr>\n",
              "  </thead>\n",
              "  <tbody>\n",
              "    <tr>\n",
              "      <th>0</th>\n",
              "      <td>\\n2023 Volvo XC90 Lease Deals and Prices</td>\n",
              "      <td>https://forums.edmunds.com/discussion/68506/vo...</td>\n",
              "      <td>{'views': '19,093 views', 'comments': '1,401 c...</td>\n",
              "      <td>kyfdx</td>\n",
              "      <td>225,138</td>\n",
              "      <td>Moderator</td>\n",
              "      <td>\\nAsk your 2023 XC90 lease questions here! Get...</td>\n",
              "      <td>None</td>\n",
              "      <td>[Volvo, Volvo XC90, Repairs &amp; Maintenance, 202...</td>\n",
              "      <td>[{'comment_author': 'rbxklg7', 'comment_author...</td>\n",
              "    </tr>\n",
              "    <tr>\n",
              "      <th>1</th>\n",
              "      <td>\\nPICTURES Included: Mass Play in Steering wheel</td>\n",
              "      <td>https://forums.edmunds.com/discussion/70210/fo...</td>\n",
              "      <td>{'views': '26 views', 'comments': '0 comments'...</td>\n",
              "      <td>Knarf</td>\n",
              "      <td>1</td>\n",
              "      <td>Member</td>\n",
              "      <td>\\n*Please review the photos provided before re...</td>\n",
              "      <td>None</td>\n",
              "      <td>[Ford, Safety, Repairs &amp; Maintenance, Engine, ...</td>\n",
              "      <td>[]</td>\n",
              "    </tr>\n",
              "    <tr>\n",
              "      <th>2</th>\n",
              "      <td>\\nTransmission Fluid Leak?</td>\n",
              "      <td>https://forums.edmunds.com/discussion/70208/sa...</td>\n",
              "      <td>{'views': '21 views', 'comments': '1 comment',...</td>\n",
              "      <td>RubberMech</td>\n",
              "      <td>1</td>\n",
              "      <td>Member</td>\n",
              "      <td>\\nHi I have this problem that is making me wor...</td>\n",
              "      <td>https://us.v-cdn.net/5021145/uploads/editor/ql...</td>\n",
              "      <td>[Saturn, Saturn ION, Repairs &amp; Maintenance, Tr...</td>\n",
              "      <td>[{'comment_author': 'thecardoc3', 'comment_aut...</td>\n",
              "    </tr>\n",
              "    <tr>\n",
              "      <th>3</th>\n",
              "      <td>\\n2009 Honda Accord Defective Piston Rings - O...</td>\n",
              "      <td>https://forums.edmunds.com/discussion/37703/ho...</td>\n",
              "      <td>{'views': '3,223 views', 'comments': '6 commen...</td>\n",
              "      <td>winne15</td>\n",
              "      <td>1</td>\n",
              "      <td>Member</td>\n",
              "      <td>\\nI just recently learned that my car (2009 Ho...</td>\n",
              "      <td>None</td>\n",
              "      <td>[Honda, Honda Accord, Repairs &amp; Maintenance, E...</td>\n",
              "      <td>[{'comment_author': 'isellhondas', 'comment_au...</td>\n",
              "    </tr>\n",
              "    <tr>\n",
              "      <th>4</th>\n",
              "      <td>\\nProject Cars--You Get to Vote on \"Hold 'em o...</td>\n",
              "      <td>https://forums.edmunds.com/discussion/4119/gen...</td>\n",
              "      <td>{'views': '242,604 views', 'comments': '41,833...</td>\n",
              "      <td>Mr_Shiftright</td>\n",
              "      <td>64,481</td>\n",
              "      <td>Member</td>\n",
              "      <td>\\nI'm going to post a link to a \"project car\" ...</td>\n",
              "      <td>None</td>\n",
              "      <td>[Classic Cars, Tuning &amp; Modification, Repairs ...</td>\n",
              "      <td>[{'comment_author': 'Mr_Shiftright', 'comment_...</td>\n",
              "    </tr>\n",
              "  </tbody>\n",
              "</table>\n",
              "</div>\n",
              "    <div class=\"colab-df-buttons\">\n",
              "\n",
              "  <div class=\"colab-df-container\">\n",
              "    <button class=\"colab-df-convert\" onclick=\"convertToInteractive('df-f2fd3731-9e2e-4f1c-a202-528955f93344')\"\n",
              "            title=\"Convert this dataframe to an interactive table.\"\n",
              "            style=\"display:none;\">\n",
              "\n",
              "  <svg xmlns=\"http://www.w3.org/2000/svg\" height=\"24px\" viewBox=\"0 -960 960 960\">\n",
              "    <path d=\"M120-120v-720h720v720H120Zm60-500h600v-160H180v160Zm220 220h160v-160H400v160Zm0 220h160v-160H400v160ZM180-400h160v-160H180v160Zm440 0h160v-160H620v160ZM180-180h160v-160H180v160Zm440 0h160v-160H620v160Z\"/>\n",
              "  </svg>\n",
              "    </button>\n",
              "\n",
              "  <style>\n",
              "    .colab-df-container {\n",
              "      display:flex;\n",
              "      gap: 12px;\n",
              "    }\n",
              "\n",
              "    .colab-df-convert {\n",
              "      background-color: #E8F0FE;\n",
              "      border: none;\n",
              "      border-radius: 50%;\n",
              "      cursor: pointer;\n",
              "      display: none;\n",
              "      fill: #1967D2;\n",
              "      height: 32px;\n",
              "      padding: 0 0 0 0;\n",
              "      width: 32px;\n",
              "    }\n",
              "\n",
              "    .colab-df-convert:hover {\n",
              "      background-color: #E2EBFA;\n",
              "      box-shadow: 0px 1px 2px rgba(60, 64, 67, 0.3), 0px 1px 3px 1px rgba(60, 64, 67, 0.15);\n",
              "      fill: #174EA6;\n",
              "    }\n",
              "\n",
              "    .colab-df-buttons div {\n",
              "      margin-bottom: 4px;\n",
              "    }\n",
              "\n",
              "    [theme=dark] .colab-df-convert {\n",
              "      background-color: #3B4455;\n",
              "      fill: #D2E3FC;\n",
              "    }\n",
              "\n",
              "    [theme=dark] .colab-df-convert:hover {\n",
              "      background-color: #434B5C;\n",
              "      box-shadow: 0px 1px 3px 1px rgba(0, 0, 0, 0.15);\n",
              "      filter: drop-shadow(0px 1px 2px rgba(0, 0, 0, 0.3));\n",
              "      fill: #FFFFFF;\n",
              "    }\n",
              "  </style>\n",
              "\n",
              "    <script>\n",
              "      const buttonEl =\n",
              "        document.querySelector('#df-f2fd3731-9e2e-4f1c-a202-528955f93344 button.colab-df-convert');\n",
              "      buttonEl.style.display =\n",
              "        google.colab.kernel.accessAllowed ? 'block' : 'none';\n",
              "\n",
              "      async function convertToInteractive(key) {\n",
              "        const element = document.querySelector('#df-f2fd3731-9e2e-4f1c-a202-528955f93344');\n",
              "        const dataTable =\n",
              "          await google.colab.kernel.invokeFunction('convertToInteractive',\n",
              "                                                    [key], {});\n",
              "        if (!dataTable) return;\n",
              "\n",
              "        const docLinkHtml = 'Like what you see? Visit the ' +\n",
              "          '<a target=\"_blank\" href=https://colab.research.google.com/notebooks/data_table.ipynb>data table notebook</a>'\n",
              "          + ' to learn more about interactive tables.';\n",
              "        element.innerHTML = '';\n",
              "        dataTable['output_type'] = 'display_data';\n",
              "        await google.colab.output.renderOutput(dataTable, element);\n",
              "        const docLink = document.createElement('div');\n",
              "        docLink.innerHTML = docLinkHtml;\n",
              "        element.appendChild(docLink);\n",
              "      }\n",
              "    </script>\n",
              "  </div>\n",
              "\n",
              "\n",
              "<div id=\"df-7e66073b-37dd-4ac0-ab6d-a7e1d2f5b899\">\n",
              "  <button class=\"colab-df-quickchart\" onclick=\"quickchart('df-7e66073b-37dd-4ac0-ab6d-a7e1d2f5b899')\"\n",
              "            title=\"Suggest charts.\"\n",
              "            style=\"display:none;\">\n",
              "\n",
              "<svg xmlns=\"http://www.w3.org/2000/svg\" height=\"24px\"viewBox=\"0 0 24 24\"\n",
              "     width=\"24px\">\n",
              "    <g>\n",
              "        <path d=\"M19 3H5c-1.1 0-2 .9-2 2v14c0 1.1.9 2 2 2h14c1.1 0 2-.9 2-2V5c0-1.1-.9-2-2-2zM9 17H7v-7h2v7zm4 0h-2V7h2v10zm4 0h-2v-4h2v4z\"/>\n",
              "    </g>\n",
              "</svg>\n",
              "  </button>\n",
              "\n",
              "<style>\n",
              "  .colab-df-quickchart {\n",
              "      --bg-color: #E8F0FE;\n",
              "      --fill-color: #1967D2;\n",
              "      --hover-bg-color: #E2EBFA;\n",
              "      --hover-fill-color: #174EA6;\n",
              "      --disabled-fill-color: #AAA;\n",
              "      --disabled-bg-color: #DDD;\n",
              "  }\n",
              "\n",
              "  [theme=dark] .colab-df-quickchart {\n",
              "      --bg-color: #3B4455;\n",
              "      --fill-color: #D2E3FC;\n",
              "      --hover-bg-color: #434B5C;\n",
              "      --hover-fill-color: #FFFFFF;\n",
              "      --disabled-bg-color: #3B4455;\n",
              "      --disabled-fill-color: #666;\n",
              "  }\n",
              "\n",
              "  .colab-df-quickchart {\n",
              "    background-color: var(--bg-color);\n",
              "    border: none;\n",
              "    border-radius: 50%;\n",
              "    cursor: pointer;\n",
              "    display: none;\n",
              "    fill: var(--fill-color);\n",
              "    height: 32px;\n",
              "    padding: 0;\n",
              "    width: 32px;\n",
              "  }\n",
              "\n",
              "  .colab-df-quickchart:hover {\n",
              "    background-color: var(--hover-bg-color);\n",
              "    box-shadow: 0 1px 2px rgba(60, 64, 67, 0.3), 0 1px 3px 1px rgba(60, 64, 67, 0.15);\n",
              "    fill: var(--button-hover-fill-color);\n",
              "  }\n",
              "\n",
              "  .colab-df-quickchart-complete:disabled,\n",
              "  .colab-df-quickchart-complete:disabled:hover {\n",
              "    background-color: var(--disabled-bg-color);\n",
              "    fill: var(--disabled-fill-color);\n",
              "    box-shadow: none;\n",
              "  }\n",
              "\n",
              "  .colab-df-spinner {\n",
              "    border: 2px solid var(--fill-color);\n",
              "    border-color: transparent;\n",
              "    border-bottom-color: var(--fill-color);\n",
              "    animation:\n",
              "      spin 1s steps(1) infinite;\n",
              "  }\n",
              "\n",
              "  @keyframes spin {\n",
              "    0% {\n",
              "      border-color: transparent;\n",
              "      border-bottom-color: var(--fill-color);\n",
              "      border-left-color: var(--fill-color);\n",
              "    }\n",
              "    20% {\n",
              "      border-color: transparent;\n",
              "      border-left-color: var(--fill-color);\n",
              "      border-top-color: var(--fill-color);\n",
              "    }\n",
              "    30% {\n",
              "      border-color: transparent;\n",
              "      border-left-color: var(--fill-color);\n",
              "      border-top-color: var(--fill-color);\n",
              "      border-right-color: var(--fill-color);\n",
              "    }\n",
              "    40% {\n",
              "      border-color: transparent;\n",
              "      border-right-color: var(--fill-color);\n",
              "      border-top-color: var(--fill-color);\n",
              "    }\n",
              "    60% {\n",
              "      border-color: transparent;\n",
              "      border-right-color: var(--fill-color);\n",
              "    }\n",
              "    80% {\n",
              "      border-color: transparent;\n",
              "      border-right-color: var(--fill-color);\n",
              "      border-bottom-color: var(--fill-color);\n",
              "    }\n",
              "    90% {\n",
              "      border-color: transparent;\n",
              "      border-bottom-color: var(--fill-color);\n",
              "    }\n",
              "  }\n",
              "</style>\n",
              "\n",
              "  <script>\n",
              "    async function quickchart(key) {\n",
              "      const quickchartButtonEl =\n",
              "        document.querySelector('#' + key + ' button');\n",
              "      quickchartButtonEl.disabled = true;  // To prevent multiple clicks.\n",
              "      quickchartButtonEl.classList.add('colab-df-spinner');\n",
              "      try {\n",
              "        const charts = await google.colab.kernel.invokeFunction(\n",
              "            'suggestCharts', [key], {});\n",
              "      } catch (error) {\n",
              "        console.error('Error during call to suggestCharts:', error);\n",
              "      }\n",
              "      quickchartButtonEl.classList.remove('colab-df-spinner');\n",
              "      quickchartButtonEl.classList.add('colab-df-quickchart-complete');\n",
              "    }\n",
              "    (() => {\n",
              "      let quickchartButtonEl =\n",
              "        document.querySelector('#df-7e66073b-37dd-4ac0-ab6d-a7e1d2f5b899 button');\n",
              "      quickchartButtonEl.style.display =\n",
              "        google.colab.kernel.accessAllowed ? 'block' : 'none';\n",
              "    })();\n",
              "  </script>\n",
              "</div>\n",
              "    </div>\n",
              "  </div>\n"
            ]
          },
          "metadata": {},
          "execution_count": 3
        }
      ]
    },
    {
      "cell_type": "code",
      "source": [
        "forumn_data.shape"
      ],
      "metadata": {
        "colab": {
          "base_uri": "https://localhost:8080/"
        },
        "id": "HE0T8i0XlQsy",
        "outputId": "0ca3eea0-38c2-416e-86e2-0041107c0289"
      },
      "execution_count": null,
      "outputs": [
        {
          "output_type": "execute_result",
          "data": {
            "text/plain": [
              "(16760, 10)"
            ]
          },
          "metadata": {},
          "execution_count": 4
        }
      ]
    },
    {
      "cell_type": "code",
      "source": [
        "forumn_data = forumn_data[~forumn_data['comments'].apply(lambda x: isinstance(x, float))]\n",
        "forumn_data[\"len_comments\"] = forumn_data['comments'].apply(lambda x: len(x))"
      ],
      "metadata": {
        "colab": {
          "base_uri": "https://localhost:8080/"
        },
        "id": "x-6-OkwylTso",
        "outputId": "2af0dcf0-c0b7-4f4e-9825-c0ecbde81534"
      },
      "execution_count": null,
      "outputs": [
        {
          "output_type": "stream",
          "name": "stderr",
          "text": [
            "<ipython-input-5-9e68ac0e0183>:2: SettingWithCopyWarning: \n",
            "A value is trying to be set on a copy of a slice from a DataFrame.\n",
            "Try using .loc[row_indexer,col_indexer] = value instead\n",
            "\n",
            "See the caveats in the documentation: https://pandas.pydata.org/pandas-docs/stable/user_guide/indexing.html#returning-a-view-versus-a-copy\n",
            "  forumn_data[\"len_comments\"] = forumn_data['comments'].apply(lambda x: len(x))\n"
          ]
        }
      ]
    },
    {
      "cell_type": "code",
      "source": [
        "forumn_data.head()"
      ],
      "metadata": {
        "colab": {
          "base_uri": "https://localhost:8080/",
          "height": 581
        },
        "id": "zvxRxR3WlaNf",
        "outputId": "9fac4a7d-e00d-45ad-bb58-7e2fffe52fae"
      },
      "execution_count": null,
      "outputs": [
        {
          "output_type": "execute_result",
          "data": {
            "text/plain": [
              "                                               title  \\\n",
              "0          \\n2023 Volvo XC90 Lease Deals and Prices    \n",
              "1  \\nPICTURES Included: Mass Play in Steering wheel    \n",
              "2                        \\nTransmission Fluid Leak?    \n",
              "3  \\n2009 Honda Accord Defective Piston Rings - O...   \n",
              "4  \\nProject Cars--You Get to Vote on \"Hold 'em o...   \n",
              "\n",
              "                                                link  \\\n",
              "0  https://forums.edmunds.com/discussion/68506/vo...   \n",
              "1  https://forums.edmunds.com/discussion/70210/fo...   \n",
              "2  https://forums.edmunds.com/discussion/70208/sa...   \n",
              "3  https://forums.edmunds.com/discussion/37703/ho...   \n",
              "4  https://forums.edmunds.com/discussion/4119/gen...   \n",
              "\n",
              "                                            metadata         author  \\\n",
              "0  {'views': '19,093 views', 'comments': '1,401 c...          kyfdx   \n",
              "1  {'views': '26 views', 'comments': '0 comments'...          Knarf   \n",
              "2  {'views': '21 views', 'comments': '1 comment',...     RubberMech   \n",
              "3  {'views': '3,223 views', 'comments': '6 commen...        winne15   \n",
              "4  {'views': '242,604 views', 'comments': '41,833...  Mr_Shiftright   \n",
              "\n",
              "  author_post_count author_role_title  \\\n",
              "0           225,138         Moderator   \n",
              "1                 1            Member   \n",
              "2                 1            Member   \n",
              "3                 1            Member   \n",
              "4            64,481            Member   \n",
              "\n",
              "                                         description  \\\n",
              "0  \\nAsk your 2023 XC90 lease questions here! Get...   \n",
              "1  \\n*Please review the photos provided before re...   \n",
              "2  \\nHi I have this problem that is making me wor...   \n",
              "3  \\nI just recently learned that my car (2009 Ho...   \n",
              "4  \\nI'm going to post a link to a \"project car\" ...   \n",
              "\n",
              "                                               image  \\\n",
              "0                                               None   \n",
              "1                                               None   \n",
              "2  https://us.v-cdn.net/5021145/uploads/editor/ql...   \n",
              "3                                               None   \n",
              "4                                               None   \n",
              "\n",
              "                                                tags  \\\n",
              "0  [Volvo, Volvo XC90, Repairs & Maintenance, 202...   \n",
              "1  [Ford, Safety, Repairs & Maintenance, Engine, ...   \n",
              "2  [Saturn, Saturn ION, Repairs & Maintenance, Tr...   \n",
              "3  [Honda, Honda Accord, Repairs & Maintenance, E...   \n",
              "4  [Classic Cars, Tuning & Modification, Repairs ...   \n",
              "\n",
              "                                            comments  len_comments  \n",
              "0  [{'comment_author': 'rbxklg7', 'comment_author...          1401  \n",
              "1                                                 []             0  \n",
              "2  [{'comment_author': 'thecardoc3', 'comment_aut...             1  \n",
              "3  [{'comment_author': 'isellhondas', 'comment_au...             6  \n",
              "4  [{'comment_author': 'Mr_Shiftright', 'comment_...         41833  "
            ],
            "text/html": [
              "\n",
              "  <div id=\"df-cd76f32a-d538-48e8-8f0c-1f784de8aeb1\" class=\"colab-df-container\">\n",
              "    <div>\n",
              "<style scoped>\n",
              "    .dataframe tbody tr th:only-of-type {\n",
              "        vertical-align: middle;\n",
              "    }\n",
              "\n",
              "    .dataframe tbody tr th {\n",
              "        vertical-align: top;\n",
              "    }\n",
              "\n",
              "    .dataframe thead th {\n",
              "        text-align: right;\n",
              "    }\n",
              "</style>\n",
              "<table border=\"1\" class=\"dataframe\">\n",
              "  <thead>\n",
              "    <tr style=\"text-align: right;\">\n",
              "      <th></th>\n",
              "      <th>title</th>\n",
              "      <th>link</th>\n",
              "      <th>metadata</th>\n",
              "      <th>author</th>\n",
              "      <th>author_post_count</th>\n",
              "      <th>author_role_title</th>\n",
              "      <th>description</th>\n",
              "      <th>image</th>\n",
              "      <th>tags</th>\n",
              "      <th>comments</th>\n",
              "      <th>len_comments</th>\n",
              "    </tr>\n",
              "  </thead>\n",
              "  <tbody>\n",
              "    <tr>\n",
              "      <th>0</th>\n",
              "      <td>\\n2023 Volvo XC90 Lease Deals and Prices</td>\n",
              "      <td>https://forums.edmunds.com/discussion/68506/vo...</td>\n",
              "      <td>{'views': '19,093 views', 'comments': '1,401 c...</td>\n",
              "      <td>kyfdx</td>\n",
              "      <td>225,138</td>\n",
              "      <td>Moderator</td>\n",
              "      <td>\\nAsk your 2023 XC90 lease questions here! Get...</td>\n",
              "      <td>None</td>\n",
              "      <td>[Volvo, Volvo XC90, Repairs &amp; Maintenance, 202...</td>\n",
              "      <td>[{'comment_author': 'rbxklg7', 'comment_author...</td>\n",
              "      <td>1401</td>\n",
              "    </tr>\n",
              "    <tr>\n",
              "      <th>1</th>\n",
              "      <td>\\nPICTURES Included: Mass Play in Steering wheel</td>\n",
              "      <td>https://forums.edmunds.com/discussion/70210/fo...</td>\n",
              "      <td>{'views': '26 views', 'comments': '0 comments'...</td>\n",
              "      <td>Knarf</td>\n",
              "      <td>1</td>\n",
              "      <td>Member</td>\n",
              "      <td>\\n*Please review the photos provided before re...</td>\n",
              "      <td>None</td>\n",
              "      <td>[Ford, Safety, Repairs &amp; Maintenance, Engine, ...</td>\n",
              "      <td>[]</td>\n",
              "      <td>0</td>\n",
              "    </tr>\n",
              "    <tr>\n",
              "      <th>2</th>\n",
              "      <td>\\nTransmission Fluid Leak?</td>\n",
              "      <td>https://forums.edmunds.com/discussion/70208/sa...</td>\n",
              "      <td>{'views': '21 views', 'comments': '1 comment',...</td>\n",
              "      <td>RubberMech</td>\n",
              "      <td>1</td>\n",
              "      <td>Member</td>\n",
              "      <td>\\nHi I have this problem that is making me wor...</td>\n",
              "      <td>https://us.v-cdn.net/5021145/uploads/editor/ql...</td>\n",
              "      <td>[Saturn, Saturn ION, Repairs &amp; Maintenance, Tr...</td>\n",
              "      <td>[{'comment_author': 'thecardoc3', 'comment_aut...</td>\n",
              "      <td>1</td>\n",
              "    </tr>\n",
              "    <tr>\n",
              "      <th>3</th>\n",
              "      <td>\\n2009 Honda Accord Defective Piston Rings - O...</td>\n",
              "      <td>https://forums.edmunds.com/discussion/37703/ho...</td>\n",
              "      <td>{'views': '3,223 views', 'comments': '6 commen...</td>\n",
              "      <td>winne15</td>\n",
              "      <td>1</td>\n",
              "      <td>Member</td>\n",
              "      <td>\\nI just recently learned that my car (2009 Ho...</td>\n",
              "      <td>None</td>\n",
              "      <td>[Honda, Honda Accord, Repairs &amp; Maintenance, E...</td>\n",
              "      <td>[{'comment_author': 'isellhondas', 'comment_au...</td>\n",
              "      <td>6</td>\n",
              "    </tr>\n",
              "    <tr>\n",
              "      <th>4</th>\n",
              "      <td>\\nProject Cars--You Get to Vote on \"Hold 'em o...</td>\n",
              "      <td>https://forums.edmunds.com/discussion/4119/gen...</td>\n",
              "      <td>{'views': '242,604 views', 'comments': '41,833...</td>\n",
              "      <td>Mr_Shiftright</td>\n",
              "      <td>64,481</td>\n",
              "      <td>Member</td>\n",
              "      <td>\\nI'm going to post a link to a \"project car\" ...</td>\n",
              "      <td>None</td>\n",
              "      <td>[Classic Cars, Tuning &amp; Modification, Repairs ...</td>\n",
              "      <td>[{'comment_author': 'Mr_Shiftright', 'comment_...</td>\n",
              "      <td>41833</td>\n",
              "    </tr>\n",
              "  </tbody>\n",
              "</table>\n",
              "</div>\n",
              "    <div class=\"colab-df-buttons\">\n",
              "\n",
              "  <div class=\"colab-df-container\">\n",
              "    <button class=\"colab-df-convert\" onclick=\"convertToInteractive('df-cd76f32a-d538-48e8-8f0c-1f784de8aeb1')\"\n",
              "            title=\"Convert this dataframe to an interactive table.\"\n",
              "            style=\"display:none;\">\n",
              "\n",
              "  <svg xmlns=\"http://www.w3.org/2000/svg\" height=\"24px\" viewBox=\"0 -960 960 960\">\n",
              "    <path d=\"M120-120v-720h720v720H120Zm60-500h600v-160H180v160Zm220 220h160v-160H400v160Zm0 220h160v-160H400v160ZM180-400h160v-160H180v160Zm440 0h160v-160H620v160ZM180-180h160v-160H180v160Zm440 0h160v-160H620v160Z\"/>\n",
              "  </svg>\n",
              "    </button>\n",
              "\n",
              "  <style>\n",
              "    .colab-df-container {\n",
              "      display:flex;\n",
              "      gap: 12px;\n",
              "    }\n",
              "\n",
              "    .colab-df-convert {\n",
              "      background-color: #E8F0FE;\n",
              "      border: none;\n",
              "      border-radius: 50%;\n",
              "      cursor: pointer;\n",
              "      display: none;\n",
              "      fill: #1967D2;\n",
              "      height: 32px;\n",
              "      padding: 0 0 0 0;\n",
              "      width: 32px;\n",
              "    }\n",
              "\n",
              "    .colab-df-convert:hover {\n",
              "      background-color: #E2EBFA;\n",
              "      box-shadow: 0px 1px 2px rgba(60, 64, 67, 0.3), 0px 1px 3px 1px rgba(60, 64, 67, 0.15);\n",
              "      fill: #174EA6;\n",
              "    }\n",
              "\n",
              "    .colab-df-buttons div {\n",
              "      margin-bottom: 4px;\n",
              "    }\n",
              "\n",
              "    [theme=dark] .colab-df-convert {\n",
              "      background-color: #3B4455;\n",
              "      fill: #D2E3FC;\n",
              "    }\n",
              "\n",
              "    [theme=dark] .colab-df-convert:hover {\n",
              "      background-color: #434B5C;\n",
              "      box-shadow: 0px 1px 3px 1px rgba(0, 0, 0, 0.15);\n",
              "      filter: drop-shadow(0px 1px 2px rgba(0, 0, 0, 0.3));\n",
              "      fill: #FFFFFF;\n",
              "    }\n",
              "  </style>\n",
              "\n",
              "    <script>\n",
              "      const buttonEl =\n",
              "        document.querySelector('#df-cd76f32a-d538-48e8-8f0c-1f784de8aeb1 button.colab-df-convert');\n",
              "      buttonEl.style.display =\n",
              "        google.colab.kernel.accessAllowed ? 'block' : 'none';\n",
              "\n",
              "      async function convertToInteractive(key) {\n",
              "        const element = document.querySelector('#df-cd76f32a-d538-48e8-8f0c-1f784de8aeb1');\n",
              "        const dataTable =\n",
              "          await google.colab.kernel.invokeFunction('convertToInteractive',\n",
              "                                                    [key], {});\n",
              "        if (!dataTable) return;\n",
              "\n",
              "        const docLinkHtml = 'Like what you see? Visit the ' +\n",
              "          '<a target=\"_blank\" href=https://colab.research.google.com/notebooks/data_table.ipynb>data table notebook</a>'\n",
              "          + ' to learn more about interactive tables.';\n",
              "        element.innerHTML = '';\n",
              "        dataTable['output_type'] = 'display_data';\n",
              "        await google.colab.output.renderOutput(dataTable, element);\n",
              "        const docLink = document.createElement('div');\n",
              "        docLink.innerHTML = docLinkHtml;\n",
              "        element.appendChild(docLink);\n",
              "      }\n",
              "    </script>\n",
              "  </div>\n",
              "\n",
              "\n",
              "<div id=\"df-2937251d-0301-4f46-9441-851115b2636d\">\n",
              "  <button class=\"colab-df-quickchart\" onclick=\"quickchart('df-2937251d-0301-4f46-9441-851115b2636d')\"\n",
              "            title=\"Suggest charts.\"\n",
              "            style=\"display:none;\">\n",
              "\n",
              "<svg xmlns=\"http://www.w3.org/2000/svg\" height=\"24px\"viewBox=\"0 0 24 24\"\n",
              "     width=\"24px\">\n",
              "    <g>\n",
              "        <path d=\"M19 3H5c-1.1 0-2 .9-2 2v14c0 1.1.9 2 2 2h14c1.1 0 2-.9 2-2V5c0-1.1-.9-2-2-2zM9 17H7v-7h2v7zm4 0h-2V7h2v10zm4 0h-2v-4h2v4z\"/>\n",
              "    </g>\n",
              "</svg>\n",
              "  </button>\n",
              "\n",
              "<style>\n",
              "  .colab-df-quickchart {\n",
              "      --bg-color: #E8F0FE;\n",
              "      --fill-color: #1967D2;\n",
              "      --hover-bg-color: #E2EBFA;\n",
              "      --hover-fill-color: #174EA6;\n",
              "      --disabled-fill-color: #AAA;\n",
              "      --disabled-bg-color: #DDD;\n",
              "  }\n",
              "\n",
              "  [theme=dark] .colab-df-quickchart {\n",
              "      --bg-color: #3B4455;\n",
              "      --fill-color: #D2E3FC;\n",
              "      --hover-bg-color: #434B5C;\n",
              "      --hover-fill-color: #FFFFFF;\n",
              "      --disabled-bg-color: #3B4455;\n",
              "      --disabled-fill-color: #666;\n",
              "  }\n",
              "\n",
              "  .colab-df-quickchart {\n",
              "    background-color: var(--bg-color);\n",
              "    border: none;\n",
              "    border-radius: 50%;\n",
              "    cursor: pointer;\n",
              "    display: none;\n",
              "    fill: var(--fill-color);\n",
              "    height: 32px;\n",
              "    padding: 0;\n",
              "    width: 32px;\n",
              "  }\n",
              "\n",
              "  .colab-df-quickchart:hover {\n",
              "    background-color: var(--hover-bg-color);\n",
              "    box-shadow: 0 1px 2px rgba(60, 64, 67, 0.3), 0 1px 3px 1px rgba(60, 64, 67, 0.15);\n",
              "    fill: var(--button-hover-fill-color);\n",
              "  }\n",
              "\n",
              "  .colab-df-quickchart-complete:disabled,\n",
              "  .colab-df-quickchart-complete:disabled:hover {\n",
              "    background-color: var(--disabled-bg-color);\n",
              "    fill: var(--disabled-fill-color);\n",
              "    box-shadow: none;\n",
              "  }\n",
              "\n",
              "  .colab-df-spinner {\n",
              "    border: 2px solid var(--fill-color);\n",
              "    border-color: transparent;\n",
              "    border-bottom-color: var(--fill-color);\n",
              "    animation:\n",
              "      spin 1s steps(1) infinite;\n",
              "  }\n",
              "\n",
              "  @keyframes spin {\n",
              "    0% {\n",
              "      border-color: transparent;\n",
              "      border-bottom-color: var(--fill-color);\n",
              "      border-left-color: var(--fill-color);\n",
              "    }\n",
              "    20% {\n",
              "      border-color: transparent;\n",
              "      border-left-color: var(--fill-color);\n",
              "      border-top-color: var(--fill-color);\n",
              "    }\n",
              "    30% {\n",
              "      border-color: transparent;\n",
              "      border-left-color: var(--fill-color);\n",
              "      border-top-color: var(--fill-color);\n",
              "      border-right-color: var(--fill-color);\n",
              "    }\n",
              "    40% {\n",
              "      border-color: transparent;\n",
              "      border-right-color: var(--fill-color);\n",
              "      border-top-color: var(--fill-color);\n",
              "    }\n",
              "    60% {\n",
              "      border-color: transparent;\n",
              "      border-right-color: var(--fill-color);\n",
              "    }\n",
              "    80% {\n",
              "      border-color: transparent;\n",
              "      border-right-color: var(--fill-color);\n",
              "      border-bottom-color: var(--fill-color);\n",
              "    }\n",
              "    90% {\n",
              "      border-color: transparent;\n",
              "      border-bottom-color: var(--fill-color);\n",
              "    }\n",
              "  }\n",
              "</style>\n",
              "\n",
              "  <script>\n",
              "    async function quickchart(key) {\n",
              "      const quickchartButtonEl =\n",
              "        document.querySelector('#' + key + ' button');\n",
              "      quickchartButtonEl.disabled = true;  // To prevent multiple clicks.\n",
              "      quickchartButtonEl.classList.add('colab-df-spinner');\n",
              "      try {\n",
              "        const charts = await google.colab.kernel.invokeFunction(\n",
              "            'suggestCharts', [key], {});\n",
              "      } catch (error) {\n",
              "        console.error('Error during call to suggestCharts:', error);\n",
              "      }\n",
              "      quickchartButtonEl.classList.remove('colab-df-spinner');\n",
              "      quickchartButtonEl.classList.add('colab-df-quickchart-complete');\n",
              "    }\n",
              "    (() => {\n",
              "      let quickchartButtonEl =\n",
              "        document.querySelector('#df-2937251d-0301-4f46-9441-851115b2636d button');\n",
              "      quickchartButtonEl.style.display =\n",
              "        google.colab.kernel.accessAllowed ? 'block' : 'none';\n",
              "    })();\n",
              "  </script>\n",
              "</div>\n",
              "    </div>\n",
              "  </div>\n"
            ]
          },
          "metadata": {},
          "execution_count": 6
        }
      ]
    },
    {
      "cell_type": "code",
      "source": [
        "forumn_data[forumn_data.len_comments > 0].shape"
      ],
      "metadata": {
        "colab": {
          "base_uri": "https://localhost:8080/"
        },
        "id": "YGG3kSF3lc__",
        "outputId": "f48a0794-c2e0-4c5b-db15-5cf25d952492"
      },
      "execution_count": null,
      "outputs": [
        {
          "output_type": "execute_result",
          "data": {
            "text/plain": [
              "(14127, 11)"
            ]
          },
          "metadata": {},
          "execution_count": 7
        }
      ]
    },
    {
      "cell_type": "code",
      "source": [
        "forumn_data.iloc[0].metadata"
      ],
      "metadata": {
        "colab": {
          "base_uri": "https://localhost:8080/"
        },
        "id": "d3v7sH1Llf8H",
        "outputId": "5d43a08c-a259-4a20-cf88-d9f664b52ee1"
      },
      "execution_count": null,
      "outputs": [
        {
          "output_type": "execute_result",
          "data": {
            "text/plain": [
              "{'views': '19,093 views',\n",
              " 'comments': '1,401 comments',\n",
              " 'date': '2023-10-19T05:35:55+00:00',\n",
              " 'category': 'Volvo',\n",
              " 'status': 'open',\n",
              " 'closed': False}"
            ]
          },
          "metadata": {},
          "execution_count": 8
        }
      ]
    },
    {
      "cell_type": "code",
      "source": [
        "forumn_data.author_role_title.value_counts()"
      ],
      "metadata": {
        "colab": {
          "base_uri": "https://localhost:8080/"
        },
        "id": "BnN6_isXlhkw",
        "outputId": "0aa9145d-46a0-48b5-ba8d-b6fd6de1ad76"
      },
      "execution_count": null,
      "outputs": [
        {
          "output_type": "execute_result",
          "data": {
            "text/plain": [
              "Member                              15421\n",
              "Member, Administrator, Moderator     1215\n",
              "Guest                                  82\n",
              "Administrator                          21\n",
              "Moderator                               8\n",
              "Posts: 0                                8\n",
              "Name: author_role_title, dtype: int64"
            ]
          },
          "metadata": {},
          "execution_count": 9
        }
      ]
    },
    {
      "cell_type": "code",
      "source": [
        "forumn_data['views'] = forumn_data['metadata'].apply(lambda x: int(x['views'].split(' ')[0].replace(',', '')))\n",
        "forumn_data['no_comments'] = forumn_data['metadata'].apply(lambda x: int(x['comments'].split(' ')[0].replace(',', '')))\n",
        "forumn_data['date'] = forumn_data['metadata'].apply(lambda x: x['date'])\n",
        "forumn_data['status'] = forumn_data['metadata'].apply(lambda x: x['status'])\n",
        "forumn_data['closed'] = forumn_data['metadata'].apply(lambda x: x['closed'])\n",
        "forumn_data['category'] = forumn_data['metadata'].apply(lambda x: x['category'])"
      ],
      "metadata": {
        "id": "AQD7elpXlmG-"
      },
      "execution_count": null,
      "outputs": []
    },
    {
      "cell_type": "code",
      "source": [
        "forumn_data.head()"
      ],
      "metadata": {
        "colab": {
          "base_uri": "https://localhost:8080/",
          "height": 581
        },
        "id": "IlsCwG3ylsjZ",
        "outputId": "4aca4e45-79bc-49df-9b10-f13422f205b9"
      },
      "execution_count": null,
      "outputs": [
        {
          "output_type": "execute_result",
          "data": {
            "text/plain": [
              "                                               title  \\\n",
              "0          \\n2023 Volvo XC90 Lease Deals and Prices    \n",
              "1  \\nPICTURES Included: Mass Play in Steering wheel    \n",
              "2                        \\nTransmission Fluid Leak?    \n",
              "3  \\n2009 Honda Accord Defective Piston Rings - O...   \n",
              "4  \\nProject Cars--You Get to Vote on \"Hold 'em o...   \n",
              "\n",
              "                                                link  \\\n",
              "0  https://forums.edmunds.com/discussion/68506/vo...   \n",
              "1  https://forums.edmunds.com/discussion/70210/fo...   \n",
              "2  https://forums.edmunds.com/discussion/70208/sa...   \n",
              "3  https://forums.edmunds.com/discussion/37703/ho...   \n",
              "4  https://forums.edmunds.com/discussion/4119/gen...   \n",
              "\n",
              "                                            metadata         author  \\\n",
              "0  {'views': '19,093 views', 'comments': '1,401 c...          kyfdx   \n",
              "1  {'views': '26 views', 'comments': '0 comments'...          Knarf   \n",
              "2  {'views': '21 views', 'comments': '1 comment',...     RubberMech   \n",
              "3  {'views': '3,223 views', 'comments': '6 commen...        winne15   \n",
              "4  {'views': '242,604 views', 'comments': '41,833...  Mr_Shiftright   \n",
              "\n",
              "  author_post_count author_role_title  \\\n",
              "0           225,138         Moderator   \n",
              "1                 1            Member   \n",
              "2                 1            Member   \n",
              "3                 1            Member   \n",
              "4            64,481            Member   \n",
              "\n",
              "                                         description  \\\n",
              "0  \\nAsk your 2023 XC90 lease questions here! Get...   \n",
              "1  \\n*Please review the photos provided before re...   \n",
              "2  \\nHi I have this problem that is making me wor...   \n",
              "3  \\nI just recently learned that my car (2009 Ho...   \n",
              "4  \\nI'm going to post a link to a \"project car\" ...   \n",
              "\n",
              "                                               image  \\\n",
              "0                                               None   \n",
              "1                                               None   \n",
              "2  https://us.v-cdn.net/5021145/uploads/editor/ql...   \n",
              "3                                               None   \n",
              "4                                               None   \n",
              "\n",
              "                                                tags  \\\n",
              "0  [Volvo, Volvo XC90, Repairs & Maintenance, 202...   \n",
              "1  [Ford, Safety, Repairs & Maintenance, Engine, ...   \n",
              "2  [Saturn, Saturn ION, Repairs & Maintenance, Tr...   \n",
              "3  [Honda, Honda Accord, Repairs & Maintenance, E...   \n",
              "4  [Classic Cars, Tuning & Modification, Repairs ...   \n",
              "\n",
              "                                            comments  len_comments   views  \\\n",
              "0  [{'comment_author': 'rbxklg7', 'comment_author...          1401   19093   \n",
              "1                                                 []             0      26   \n",
              "2  [{'comment_author': 'thecardoc3', 'comment_aut...             1      21   \n",
              "3  [{'comment_author': 'isellhondas', 'comment_au...             6    3223   \n",
              "4  [{'comment_author': 'Mr_Shiftright', 'comment_...         41833  242604   \n",
              "\n",
              "   no_comments                       date status  closed category  \n",
              "0         1401  2023-10-19T05:35:55+00:00   open   False    Volvo  \n",
              "1            0  2023-10-19T00:03:22+00:00   open   False     Ford  \n",
              "2            1  2023-10-18T14:10:25+00:00   open   False   Saturn  \n",
              "3            6  2023-10-18T13:55:44+00:00   open   False    Honda  \n",
              "4        41833  2023-10-17T19:50:50+00:00   open   False  General  "
            ],
            "text/html": [
              "\n",
              "  <div id=\"df-13f4e94c-16c7-4d21-b10f-7856328cca9c\" class=\"colab-df-container\">\n",
              "    <div>\n",
              "<style scoped>\n",
              "    .dataframe tbody tr th:only-of-type {\n",
              "        vertical-align: middle;\n",
              "    }\n",
              "\n",
              "    .dataframe tbody tr th {\n",
              "        vertical-align: top;\n",
              "    }\n",
              "\n",
              "    .dataframe thead th {\n",
              "        text-align: right;\n",
              "    }\n",
              "</style>\n",
              "<table border=\"1\" class=\"dataframe\">\n",
              "  <thead>\n",
              "    <tr style=\"text-align: right;\">\n",
              "      <th></th>\n",
              "      <th>title</th>\n",
              "      <th>link</th>\n",
              "      <th>metadata</th>\n",
              "      <th>author</th>\n",
              "      <th>author_post_count</th>\n",
              "      <th>author_role_title</th>\n",
              "      <th>description</th>\n",
              "      <th>image</th>\n",
              "      <th>tags</th>\n",
              "      <th>comments</th>\n",
              "      <th>len_comments</th>\n",
              "      <th>views</th>\n",
              "      <th>no_comments</th>\n",
              "      <th>date</th>\n",
              "      <th>status</th>\n",
              "      <th>closed</th>\n",
              "      <th>category</th>\n",
              "    </tr>\n",
              "  </thead>\n",
              "  <tbody>\n",
              "    <tr>\n",
              "      <th>0</th>\n",
              "      <td>\\n2023 Volvo XC90 Lease Deals and Prices</td>\n",
              "      <td>https://forums.edmunds.com/discussion/68506/vo...</td>\n",
              "      <td>{'views': '19,093 views', 'comments': '1,401 c...</td>\n",
              "      <td>kyfdx</td>\n",
              "      <td>225,138</td>\n",
              "      <td>Moderator</td>\n",
              "      <td>\\nAsk your 2023 XC90 lease questions here! Get...</td>\n",
              "      <td>None</td>\n",
              "      <td>[Volvo, Volvo XC90, Repairs &amp; Maintenance, 202...</td>\n",
              "      <td>[{'comment_author': 'rbxklg7', 'comment_author...</td>\n",
              "      <td>1401</td>\n",
              "      <td>19093</td>\n",
              "      <td>1401</td>\n",
              "      <td>2023-10-19T05:35:55+00:00</td>\n",
              "      <td>open</td>\n",
              "      <td>False</td>\n",
              "      <td>Volvo</td>\n",
              "    </tr>\n",
              "    <tr>\n",
              "      <th>1</th>\n",
              "      <td>\\nPICTURES Included: Mass Play in Steering wheel</td>\n",
              "      <td>https://forums.edmunds.com/discussion/70210/fo...</td>\n",
              "      <td>{'views': '26 views', 'comments': '0 comments'...</td>\n",
              "      <td>Knarf</td>\n",
              "      <td>1</td>\n",
              "      <td>Member</td>\n",
              "      <td>\\n*Please review the photos provided before re...</td>\n",
              "      <td>None</td>\n",
              "      <td>[Ford, Safety, Repairs &amp; Maintenance, Engine, ...</td>\n",
              "      <td>[]</td>\n",
              "      <td>0</td>\n",
              "      <td>26</td>\n",
              "      <td>0</td>\n",
              "      <td>2023-10-19T00:03:22+00:00</td>\n",
              "      <td>open</td>\n",
              "      <td>False</td>\n",
              "      <td>Ford</td>\n",
              "    </tr>\n",
              "    <tr>\n",
              "      <th>2</th>\n",
              "      <td>\\nTransmission Fluid Leak?</td>\n",
              "      <td>https://forums.edmunds.com/discussion/70208/sa...</td>\n",
              "      <td>{'views': '21 views', 'comments': '1 comment',...</td>\n",
              "      <td>RubberMech</td>\n",
              "      <td>1</td>\n",
              "      <td>Member</td>\n",
              "      <td>\\nHi I have this problem that is making me wor...</td>\n",
              "      <td>https://us.v-cdn.net/5021145/uploads/editor/ql...</td>\n",
              "      <td>[Saturn, Saturn ION, Repairs &amp; Maintenance, Tr...</td>\n",
              "      <td>[{'comment_author': 'thecardoc3', 'comment_aut...</td>\n",
              "      <td>1</td>\n",
              "      <td>21</td>\n",
              "      <td>1</td>\n",
              "      <td>2023-10-18T14:10:25+00:00</td>\n",
              "      <td>open</td>\n",
              "      <td>False</td>\n",
              "      <td>Saturn</td>\n",
              "    </tr>\n",
              "    <tr>\n",
              "      <th>3</th>\n",
              "      <td>\\n2009 Honda Accord Defective Piston Rings - O...</td>\n",
              "      <td>https://forums.edmunds.com/discussion/37703/ho...</td>\n",
              "      <td>{'views': '3,223 views', 'comments': '6 commen...</td>\n",
              "      <td>winne15</td>\n",
              "      <td>1</td>\n",
              "      <td>Member</td>\n",
              "      <td>\\nI just recently learned that my car (2009 Ho...</td>\n",
              "      <td>None</td>\n",
              "      <td>[Honda, Honda Accord, Repairs &amp; Maintenance, E...</td>\n",
              "      <td>[{'comment_author': 'isellhondas', 'comment_au...</td>\n",
              "      <td>6</td>\n",
              "      <td>3223</td>\n",
              "      <td>6</td>\n",
              "      <td>2023-10-18T13:55:44+00:00</td>\n",
              "      <td>open</td>\n",
              "      <td>False</td>\n",
              "      <td>Honda</td>\n",
              "    </tr>\n",
              "    <tr>\n",
              "      <th>4</th>\n",
              "      <td>\\nProject Cars--You Get to Vote on \"Hold 'em o...</td>\n",
              "      <td>https://forums.edmunds.com/discussion/4119/gen...</td>\n",
              "      <td>{'views': '242,604 views', 'comments': '41,833...</td>\n",
              "      <td>Mr_Shiftright</td>\n",
              "      <td>64,481</td>\n",
              "      <td>Member</td>\n",
              "      <td>\\nI'm going to post a link to a \"project car\" ...</td>\n",
              "      <td>None</td>\n",
              "      <td>[Classic Cars, Tuning &amp; Modification, Repairs ...</td>\n",
              "      <td>[{'comment_author': 'Mr_Shiftright', 'comment_...</td>\n",
              "      <td>41833</td>\n",
              "      <td>242604</td>\n",
              "      <td>41833</td>\n",
              "      <td>2023-10-17T19:50:50+00:00</td>\n",
              "      <td>open</td>\n",
              "      <td>False</td>\n",
              "      <td>General</td>\n",
              "    </tr>\n",
              "  </tbody>\n",
              "</table>\n",
              "</div>\n",
              "    <div class=\"colab-df-buttons\">\n",
              "\n",
              "  <div class=\"colab-df-container\">\n",
              "    <button class=\"colab-df-convert\" onclick=\"convertToInteractive('df-13f4e94c-16c7-4d21-b10f-7856328cca9c')\"\n",
              "            title=\"Convert this dataframe to an interactive table.\"\n",
              "            style=\"display:none;\">\n",
              "\n",
              "  <svg xmlns=\"http://www.w3.org/2000/svg\" height=\"24px\" viewBox=\"0 -960 960 960\">\n",
              "    <path d=\"M120-120v-720h720v720H120Zm60-500h600v-160H180v160Zm220 220h160v-160H400v160Zm0 220h160v-160H400v160ZM180-400h160v-160H180v160Zm440 0h160v-160H620v160ZM180-180h160v-160H180v160Zm440 0h160v-160H620v160Z\"/>\n",
              "  </svg>\n",
              "    </button>\n",
              "\n",
              "  <style>\n",
              "    .colab-df-container {\n",
              "      display:flex;\n",
              "      gap: 12px;\n",
              "    }\n",
              "\n",
              "    .colab-df-convert {\n",
              "      background-color: #E8F0FE;\n",
              "      border: none;\n",
              "      border-radius: 50%;\n",
              "      cursor: pointer;\n",
              "      display: none;\n",
              "      fill: #1967D2;\n",
              "      height: 32px;\n",
              "      padding: 0 0 0 0;\n",
              "      width: 32px;\n",
              "    }\n",
              "\n",
              "    .colab-df-convert:hover {\n",
              "      background-color: #E2EBFA;\n",
              "      box-shadow: 0px 1px 2px rgba(60, 64, 67, 0.3), 0px 1px 3px 1px rgba(60, 64, 67, 0.15);\n",
              "      fill: #174EA6;\n",
              "    }\n",
              "\n",
              "    .colab-df-buttons div {\n",
              "      margin-bottom: 4px;\n",
              "    }\n",
              "\n",
              "    [theme=dark] .colab-df-convert {\n",
              "      background-color: #3B4455;\n",
              "      fill: #D2E3FC;\n",
              "    }\n",
              "\n",
              "    [theme=dark] .colab-df-convert:hover {\n",
              "      background-color: #434B5C;\n",
              "      box-shadow: 0px 1px 3px 1px rgba(0, 0, 0, 0.15);\n",
              "      filter: drop-shadow(0px 1px 2px rgba(0, 0, 0, 0.3));\n",
              "      fill: #FFFFFF;\n",
              "    }\n",
              "  </style>\n",
              "\n",
              "    <script>\n",
              "      const buttonEl =\n",
              "        document.querySelector('#df-13f4e94c-16c7-4d21-b10f-7856328cca9c button.colab-df-convert');\n",
              "      buttonEl.style.display =\n",
              "        google.colab.kernel.accessAllowed ? 'block' : 'none';\n",
              "\n",
              "      async function convertToInteractive(key) {\n",
              "        const element = document.querySelector('#df-13f4e94c-16c7-4d21-b10f-7856328cca9c');\n",
              "        const dataTable =\n",
              "          await google.colab.kernel.invokeFunction('convertToInteractive',\n",
              "                                                    [key], {});\n",
              "        if (!dataTable) return;\n",
              "\n",
              "        const docLinkHtml = 'Like what you see? Visit the ' +\n",
              "          '<a target=\"_blank\" href=https://colab.research.google.com/notebooks/data_table.ipynb>data table notebook</a>'\n",
              "          + ' to learn more about interactive tables.';\n",
              "        element.innerHTML = '';\n",
              "        dataTable['output_type'] = 'display_data';\n",
              "        await google.colab.output.renderOutput(dataTable, element);\n",
              "        const docLink = document.createElement('div');\n",
              "        docLink.innerHTML = docLinkHtml;\n",
              "        element.appendChild(docLink);\n",
              "      }\n",
              "    </script>\n",
              "  </div>\n",
              "\n",
              "\n",
              "<div id=\"df-3e209f2d-290d-4686-9793-119242637fe9\">\n",
              "  <button class=\"colab-df-quickchart\" onclick=\"quickchart('df-3e209f2d-290d-4686-9793-119242637fe9')\"\n",
              "            title=\"Suggest charts.\"\n",
              "            style=\"display:none;\">\n",
              "\n",
              "<svg xmlns=\"http://www.w3.org/2000/svg\" height=\"24px\"viewBox=\"0 0 24 24\"\n",
              "     width=\"24px\">\n",
              "    <g>\n",
              "        <path d=\"M19 3H5c-1.1 0-2 .9-2 2v14c0 1.1.9 2 2 2h14c1.1 0 2-.9 2-2V5c0-1.1-.9-2-2-2zM9 17H7v-7h2v7zm4 0h-2V7h2v10zm4 0h-2v-4h2v4z\"/>\n",
              "    </g>\n",
              "</svg>\n",
              "  </button>\n",
              "\n",
              "<style>\n",
              "  .colab-df-quickchart {\n",
              "      --bg-color: #E8F0FE;\n",
              "      --fill-color: #1967D2;\n",
              "      --hover-bg-color: #E2EBFA;\n",
              "      --hover-fill-color: #174EA6;\n",
              "      --disabled-fill-color: #AAA;\n",
              "      --disabled-bg-color: #DDD;\n",
              "  }\n",
              "\n",
              "  [theme=dark] .colab-df-quickchart {\n",
              "      --bg-color: #3B4455;\n",
              "      --fill-color: #D2E3FC;\n",
              "      --hover-bg-color: #434B5C;\n",
              "      --hover-fill-color: #FFFFFF;\n",
              "      --disabled-bg-color: #3B4455;\n",
              "      --disabled-fill-color: #666;\n",
              "  }\n",
              "\n",
              "  .colab-df-quickchart {\n",
              "    background-color: var(--bg-color);\n",
              "    border: none;\n",
              "    border-radius: 50%;\n",
              "    cursor: pointer;\n",
              "    display: none;\n",
              "    fill: var(--fill-color);\n",
              "    height: 32px;\n",
              "    padding: 0;\n",
              "    width: 32px;\n",
              "  }\n",
              "\n",
              "  .colab-df-quickchart:hover {\n",
              "    background-color: var(--hover-bg-color);\n",
              "    box-shadow: 0 1px 2px rgba(60, 64, 67, 0.3), 0 1px 3px 1px rgba(60, 64, 67, 0.15);\n",
              "    fill: var(--button-hover-fill-color);\n",
              "  }\n",
              "\n",
              "  .colab-df-quickchart-complete:disabled,\n",
              "  .colab-df-quickchart-complete:disabled:hover {\n",
              "    background-color: var(--disabled-bg-color);\n",
              "    fill: var(--disabled-fill-color);\n",
              "    box-shadow: none;\n",
              "  }\n",
              "\n",
              "  .colab-df-spinner {\n",
              "    border: 2px solid var(--fill-color);\n",
              "    border-color: transparent;\n",
              "    border-bottom-color: var(--fill-color);\n",
              "    animation:\n",
              "      spin 1s steps(1) infinite;\n",
              "  }\n",
              "\n",
              "  @keyframes spin {\n",
              "    0% {\n",
              "      border-color: transparent;\n",
              "      border-bottom-color: var(--fill-color);\n",
              "      border-left-color: var(--fill-color);\n",
              "    }\n",
              "    20% {\n",
              "      border-color: transparent;\n",
              "      border-left-color: var(--fill-color);\n",
              "      border-top-color: var(--fill-color);\n",
              "    }\n",
              "    30% {\n",
              "      border-color: transparent;\n",
              "      border-left-color: var(--fill-color);\n",
              "      border-top-color: var(--fill-color);\n",
              "      border-right-color: var(--fill-color);\n",
              "    }\n",
              "    40% {\n",
              "      border-color: transparent;\n",
              "      border-right-color: var(--fill-color);\n",
              "      border-top-color: var(--fill-color);\n",
              "    }\n",
              "    60% {\n",
              "      border-color: transparent;\n",
              "      border-right-color: var(--fill-color);\n",
              "    }\n",
              "    80% {\n",
              "      border-color: transparent;\n",
              "      border-right-color: var(--fill-color);\n",
              "      border-bottom-color: var(--fill-color);\n",
              "    }\n",
              "    90% {\n",
              "      border-color: transparent;\n",
              "      border-bottom-color: var(--fill-color);\n",
              "    }\n",
              "  }\n",
              "</style>\n",
              "\n",
              "  <script>\n",
              "    async function quickchart(key) {\n",
              "      const quickchartButtonEl =\n",
              "        document.querySelector('#' + key + ' button');\n",
              "      quickchartButtonEl.disabled = true;  // To prevent multiple clicks.\n",
              "      quickchartButtonEl.classList.add('colab-df-spinner');\n",
              "      try {\n",
              "        const charts = await google.colab.kernel.invokeFunction(\n",
              "            'suggestCharts', [key], {});\n",
              "      } catch (error) {\n",
              "        console.error('Error during call to suggestCharts:', error);\n",
              "      }\n",
              "      quickchartButtonEl.classList.remove('colab-df-spinner');\n",
              "      quickchartButtonEl.classList.add('colab-df-quickchart-complete');\n",
              "    }\n",
              "    (() => {\n",
              "      let quickchartButtonEl =\n",
              "        document.querySelector('#df-3e209f2d-290d-4686-9793-119242637fe9 button');\n",
              "      quickchartButtonEl.style.display =\n",
              "        google.colab.kernel.accessAllowed ? 'block' : 'none';\n",
              "    })();\n",
              "  </script>\n",
              "</div>\n",
              "    </div>\n",
              "  </div>\n"
            ]
          },
          "metadata": {},
          "execution_count": 11
        }
      ]
    },
    {
      "cell_type": "code",
      "source": [
        "forumn_data.status.value_counts()"
      ],
      "metadata": {
        "colab": {
          "base_uri": "https://localhost:8080/"
        },
        "id": "58IK8_ZvlurW",
        "outputId": "e85230f1-a187-48fa-9257-e355ef6bedc4"
      },
      "execution_count": null,
      "outputs": [
        {
          "output_type": "execute_result",
          "data": {
            "text/plain": [
              "open          9103\n",
              "Closed        5126\n",
              "Answered      2103\n",
              "Answered ✓     417\n",
              "Poll             4\n",
              "Question         2\n",
              "Name: status, dtype: int64"
            ]
          },
          "metadata": {},
          "execution_count": 12
        }
      ]
    },
    {
      "cell_type": "code",
      "source": [
        "forumn_data[forumn_data.status=='Answered ✓'].iloc[1].link\n",
        "# forumn_data[forumn_data.status=='Answered ✓'].iloc[0].description\n",
        "forumn_data[forumn_data.status=='Answered ✓'].iloc[1].comments"
      ],
      "metadata": {
        "colab": {
          "base_uri": "https://localhost:8080/"
        },
        "id": "p8fZZ3vol1QJ",
        "outputId": "ee5290d6-e664-4253-cb35-179f4f62a4c4"
      },
      "execution_count": null,
      "outputs": [
        {
          "output_type": "execute_result",
          "data": {
            "text/plain": [
              "[{'comment_author': 'thecardoc3',\n",
              "  'comment_author_post_count': '5,674',\n",
              "  'comment_author_role_title': 'Member',\n",
              "  'comment_date_created': '2023-06-23T01:39:35+00:00',\n",
              "  'comment_text': '\\nProbably a cylinder misfire sometime in the past. When the substrate fails like that it is from overheating typically caused by an engine misfire that puts both air and fuel into the exhaust for the catalyst to try to clean up. '},\n",
              " {'comment_author': 'thecardoc3',\n",
              "  'comment_author_post_count': '5,674',\n",
              "  'comment_author_role_title': 'Member',\n",
              "  'comment_date_created': '2023-06-22T23:14:59+00:00',\n",
              "  'comment_text': '\\nNo, the catalyst needs to be replaced. '},\n",
              " {'comment_author': 'mikewax',\n",
              "  'comment_author_post_count': '4',\n",
              "  'comment_author_role_title': 'Member',\n",
              "  'comment_date_created': '2023-06-23T01:17:50+00:00',\n",
              "  'comment_text': '\\nthecardoc3 said:No, the catalyst needs to be replaced. \\ni thought so but the real question is How Could This Happen? '},\n",
              " {'comment_author': 'mikewax',\n",
              "  'comment_author_post_count': '4',\n",
              "  'comment_author_role_title': 'Member',\n",
              "  'comment_date_created': '2023-06-23T03:54:29+00:00',\n",
              "  'comment_text': \"\\nwow that's some serious auto abuse. THANX \"}]"
            ]
          },
          "metadata": {},
          "execution_count": 13
        }
      ]
    },
    {
      "cell_type": "code",
      "source": [
        "forumn_data.status[forumn_data.status=='Answered ✓'] = 'Answered'"
      ],
      "metadata": {
        "colab": {
          "base_uri": "https://localhost:8080/"
        },
        "id": "Nt0XSGMll3K5",
        "outputId": "e1fbfc80-aaac-4c8c-dc0d-7ba3831c14e6"
      },
      "execution_count": null,
      "outputs": [
        {
          "output_type": "stream",
          "name": "stderr",
          "text": [
            "<ipython-input-14-a65e07ab8eb0>:1: SettingWithCopyWarning: \n",
            "A value is trying to be set on a copy of a slice from a DataFrame\n",
            "\n",
            "See the caveats in the documentation: https://pandas.pydata.org/pandas-docs/stable/user_guide/indexing.html#returning-a-view-versus-a-copy\n",
            "  forumn_data.status[forumn_data.status=='Answered ✓'] = 'Answered'\n"
          ]
        }
      ]
    },
    {
      "cell_type": "code",
      "source": [
        "forumn_data.status.value_counts()"
      ],
      "metadata": {
        "colab": {
          "base_uri": "https://localhost:8080/"
        },
        "id": "Tu8Vfixvl9-j",
        "outputId": "78c9ae0e-b316-40c3-b392-2541775fd2a1"
      },
      "execution_count": null,
      "outputs": [
        {
          "output_type": "execute_result",
          "data": {
            "text/plain": [
              "open        9103\n",
              "Closed      5126\n",
              "Answered    2520\n",
              "Poll           4\n",
              "Question       2\n",
              "Name: status, dtype: int64"
            ]
          },
          "metadata": {},
          "execution_count": 15
        }
      ]
    },
    {
      "cell_type": "code",
      "source": [
        "forumn_data[forumn_data.status=='Closed'].iloc[0].link"
      ],
      "metadata": {
        "colab": {
          "base_uri": "https://localhost:8080/",
          "height": 35
        },
        "id": "p0rTFzpWl_Zo",
        "outputId": "4f87a073-eef3-44b6-ac45-52b0bd050c8d"
      },
      "execution_count": null,
      "outputs": [
        {
          "output_type": "execute_result",
          "data": {
            "text/plain": [
              "'https://forums.edmunds.com/discussion/58695/honda/accord/cilajet-average-cost-for-paint-protection'"
            ],
            "application/vnd.google.colaboratory.intrinsic+json": {
              "type": "string"
            }
          },
          "metadata": {},
          "execution_count": 16
        }
      ]
    },
    {
      "cell_type": "code",
      "source": [
        "forumn_data.to_csv('edmunds_forum_data.csv')"
      ],
      "metadata": {
        "id": "nqPKlS9JmC8U"
      },
      "execution_count": null,
      "outputs": []
    },
    {
      "cell_type": "markdown",
      "source": [
        "## Data Preparation"
      ],
      "metadata": {
        "id": "auPd1Y59mVJo"
      }
    },
    {
      "cell_type": "code",
      "source": [
        "import random"
      ],
      "metadata": {
        "id": "NbuKM6lbnOdY"
      },
      "execution_count": null,
      "outputs": []
    },
    {
      "cell_type": "code",
      "source": [
        "rand_int = random.randint(0, forumn_data.shape[0])\n",
        "rand_row = forumn_data.iloc[rand_int]\n",
        "print(rand_row)"
      ],
      "metadata": {
        "colab": {
          "base_uri": "https://localhost:8080/"
        },
        "id": "lydzQBRInISU",
        "outputId": "9471ea4b-cade-40c0-acb3-f5fd35f6cb79"
      },
      "execution_count": null,
      "outputs": [
        {
          "output_type": "stream",
          "name": "stdout",
          "text": [
            "title                \\nFeds Upgrade Probe Into 2008-'11 Mercedes-Be...\n",
            "link                 https://forums.edmunds.com/discussion/29851/me...\n",
            "metadata             {'views': '381 views', 'comments': '2 comments...\n",
            "author                                                     Edmunds.com\n",
            "author_post_count                                               10,315\n",
            "author_role_title                     Member, Administrator, Moderator\n",
            "description          \\nFeds Upgrade Probe Into 2008-'11 Mercedes-Be...\n",
            "image                http://media.ed.edmunds-media.com/mercedes-ben...\n",
            "tags                 [Mercedes-Benz, Mercedes-Benz C-Class, Repairs...\n",
            "comments             [{'comment_author': 'scubadiver84', 'comment_a...\n",
            "len_comments                                                         2\n",
            "views                                                              381\n",
            "no_comments                                                          2\n",
            "date                                         2016-02-21T01:44:08+00:00\n",
            "status                                                            open\n",
            "closed                                                           False\n",
            "category                                                 Mercedes-Benz\n",
            "Name: 6253, dtype: object\n"
          ]
        }
      ]
    },
    {
      "cell_type": "code",
      "source": [
        "print(rand_row.title)\n",
        "print(rand_row.description)\n",
        "print(rand_row.comments[:5])"
      ],
      "metadata": {
        "colab": {
          "base_uri": "https://localhost:8080/"
        },
        "id": "BTmYATDwnIXv",
        "outputId": "b035dfcd-83a8-40ac-e6ba-550ad4ae2b09"
      },
      "execution_count": null,
      "outputs": [
        {
          "output_type": "stream",
          "name": "stdout",
          "text": [
            "\n",
            "Feds Upgrade Probe Into 2008-'11 Mercedes-Benz C-Class \n",
            "\n",
            "Feds Upgrade Probe Into 2008-'11 Mercedes-Benz C-Class\n",
            "The National Highway Traffic Safety Administration has upgraded an investigation into 252,867 2008-'11 Mercedes-Benz C-Class cars for loss of rear lights that could result in a fire.\n",
            "Read the full story here\n",
            " \n",
            "[{'comment_author': 'scubadiver84', 'comment_author_post_count': '1', 'comment_author_role_title': 'Member', 'comment_date_created': '2014-01-23T18:00:13+00:00', 'comment_text': '\\nHi my name is Todd and I had a 2006 ML350. On November 30 2013, It spontaneously caught fire as it was parked two hours after I had driven it. The firemen state in the report it was an electrical fire and started from a short in the rear taillight harness, much like the investigation in the C-class. They could determine that in only twenty minutes time. Look at the pictures below and see what you think. I brought this to Mercedes Benz USA\\'s attention and they were careless about the safety dangers that this caused/posed. They said it wasn’t a manufacturers’ defect. Might I remind you the car had been parked for 2 hours. God forbid if consumers found out that the ML-class would be involved in the same investigation as the C-class. They were of more concern about this being leaked or exposed and tried to sweep my case under the rug. They held my vehicle for about 2 months for their \"investigation\" and not to have any conclusion of the manufacturers defect is complete BS. They told me that the fire was inconclusive and not a manufactures defect. Get this! They only gave me one case manager and limited me only to speak with her. After I had asked to speak to numerous other managers and higher ups they told me I strictly couldn\\'t. After being trapped in this corporate cover up I had no where else to turn. Susan M.Case Manager[contact information removed]( my west coast regional case manager) How many other vehicle cases did they sweep under the rug like mine? I do not expect this kind of cover-up from Mercedes and would expect them to stand behind their vehicles. I only had 76,000 miles on it. An absolute nightmare!! See the pictures below. THIS WENT TO CBS2 KCAL 9 THE BBB, NHTSA, numerous auto blogs ,CAS and the Federal Trade commission and the department of justice attorney general. I\\'M STILL NOT DONE!! '}, {'comment_author': 'getoverurself', 'comment_author_post_count': '1', 'comment_author_role_title': 'Member', 'comment_date_created': '2016-02-21T01:44:08+00:00', 'comment_text': '\\nHi Todd. I am truly sorry about your SUV... But also sorry that your story does not jive. For starters, you posted this under a story related to Mercedes Benz C-Class tail light recall update. Emphasis on \"C-Class\". Which means not only was your ML not included in this recall, but the story you tell about how your car allegedly caught fire defies simple logic as well as a details electrical explanation. Unless your car was parked with the tail lights on, then there is not electric current running through them which also means that an electrical fire starting there 2 hours later is virtually impossible.Moreover, and while many Mercedes Benz models may share the exact same parts, some even for consecutive years, the C-Class tail lights are completely different that he ML Class tail lights. And in such a case, they were manufactured subject to a different set of criteria, possibly by a different manufacturer may be even at a different factory. And just as soon as you hear about a tail light recall for one model, you jump at the chance to try and bad mouth a manufacturer in an attempt to make yourself feel better at failing to protect yourself from your own shortcoming... (I\\'ll explain this in a bit).So what would happen if the ML was involved in the same recall as the C-Class? A better question is, why wasn\\'t the ML included in the tail light recall? If it were such a serious matter, and if these \"fires\" were truly a cause for concern for ML owners, why is it that the NHTSA only has 2 complaints that were reported about fires caused by tail lights on the MB ML series? Let me elaborate further on the 2 complaints on record with the NHTSA... One, was likely filed by you, in which you included your vehicle\\'s VIN # as well as your location; the other was likely to have ALSO filed by you, wherein you did not include your vehicle\\'s VIN# (listed as \"Unknown\") or your location (listed as \"Unknown\"). The stories vary slightly but of course that is expected... This leaves us with a few possibilities. One, you may have had some aftermarket lights in that vehicle\\'s tail lights, you (or a previous owner) may have modified those connections somehow... amongst other possibilities that would simply allow a reasonable person to conclude that Mercedes Benz owed you nothing at the time (reportedly somewhere around the end of 2013 and into 2014). Your car is a 2006 model which, you stated you had 76,000 miles on it, meaning its warranty had expires 26,000 miles before you reported this matter and aside from mileage, reporting it in 2013 means it was approximately 8-9 years after it was put into service, i.e. it was 3-4 years out of ANY sort of warranty by Mercedes Benz. Yet you somehow assumed that you had some entitlement to getting the problem fixed by Mercedes Benz?Lastly, we are down to one single question... You stated that you brought this up to the attention of Mercedes Benz, but that (quoting you) \"they were careless about the safety dangers that this caused/posed\". All while you were clearly aware of such \"safety dangers this caused/posed\"... And yet you failed to take this problem to a person qualified to diagnose the fault and help you put together a plan to properly correct it? OK, I said \"one question\", lets make them two... In other words, you knew there was a problem, you knew the dangers it posed, you knew it could cause a fire and burn your vehicle down, but because Mercedes Benz denied any liability as far as repair costs, you decided to sit on your hands and do nothing to resolve it??? What the heck, lets go for three... Because in the end, when your vehicle caught on fire, it suddenly became Mercedes Benz\\'s fault because you failed to take care of your own property?So you reported this matter to a long list of entities... Question is, if you feel justified in having a claim against MB, why not sue them in court? I know why, because no lawyer in his right mind would take your case. Unless you were willing to pay him hourly but no person in their right mind would do this knowing full well they have no case.If you had insurance, and assuming your insurer never became aware of your negligence to properly minimize your loss potential, they may have reimbursed you for the value of the vehicle at the time. This would be all that you would be entitled to... And certainly, you were entitled to nothing from Mercedes Benz. So Get Over Urself... '}]\n"
          ]
        }
      ]
    },
    {
      "cell_type": "code",
      "source": [
        "def prepare_data(row, context_length=50):\n",
        "  instructions = []\n",
        "  comments = list(row.comments)\n",
        "\n",
        "  if not comments:\n",
        "    return None\n",
        "\n",
        "  comments = comments[::-1]\n",
        "  comments_len = len(comments)\n",
        "\n",
        "  instructions.append({\n",
        "        \"instruction\": row.title + \"\\n\" + row.description,\n",
        "        \"context\": \"\",\n",
        "        \"response\": comments[0]['comment_text']\n",
        "  })\n",
        "\n",
        "  for i in range(0, comments_len-1):\n",
        "    past_idx = -int(min(len(instructions), context_length))\n",
        "    past_context = '\\n'.join([inst['response'] for inst in instructions[past_idx:]])\n",
        "\n",
        "    instruction = {\n",
        "        \"instruction\": instructions[-1]['response'],\n",
        "        \"context\": past_context,\n",
        "        \"response\": comments[i]['comment_text']\n",
        "    }\n",
        "\n",
        "    instructions.append(instruction)\n",
        "\n",
        "  return instructions"
      ],
      "metadata": {
        "id": "A2A13ZHjms8N"
      },
      "execution_count": null,
      "outputs": []
    },
    {
      "cell_type": "code",
      "source": [
        "ans_forumn_data = forumn_data[forumn_data.status=='Answered']\n",
        "ans_forumn_data.shape"
      ],
      "metadata": {
        "colab": {
          "base_uri": "https://localhost:8080/"
        },
        "id": "edVhRTiynuK8",
        "outputId": "0ae8299f-28f5-4d6f-ee61-c8707e84d4d2"
      },
      "execution_count": null,
      "outputs": [
        {
          "output_type": "execute_result",
          "data": {
            "text/plain": [
              "(2520, 17)"
            ]
          },
          "metadata": {},
          "execution_count": 22
        }
      ]
    },
    {
      "cell_type": "code",
      "source": [
        "print(ans_forumn_data[ans_forumn_data.no_comments==0].iloc[1].title)\n",
        "print(ans_forumn_data[ans_forumn_data.no_comments==0].iloc[1].description)"
      ],
      "metadata": {
        "colab": {
          "base_uri": "https://localhost:8080/"
        },
        "id": "ceXkVL8DtNnn",
        "outputId": "b604d92f-f85a-429e-bfe6-85cbeb490736"
      },
      "execution_count": null,
      "outputs": [
        {
          "output_type": "stream",
          "name": "stdout",
          "text": [
            "\n",
            "is a car bra useful/how to fix rock chips in paint \n",
            "\n",
            "does a car front bra leave marks on paint surface. how can rock cips in paint be fixed \n"
          ]
        }
      ]
    },
    {
      "cell_type": "code",
      "source": [
        "ans_forumn_data = ans_forumn_data[ans_forumn_data.no_comments>0]\n",
        "ans_forumn_data.shape"
      ],
      "metadata": {
        "colab": {
          "base_uri": "https://localhost:8080/"
        },
        "id": "uG_cTGvqtXRr",
        "outputId": "8177c4f2-f9bf-44c1-a4c6-2423156f4c77"
      },
      "execution_count": null,
      "outputs": [
        {
          "output_type": "execute_result",
          "data": {
            "text/plain": [
              "(2484, 17)"
            ]
          },
          "metadata": {},
          "execution_count": 24
        }
      ]
    },
    {
      "cell_type": "code",
      "source": [
        "ans_forumn_data.no_comments.mean()"
      ],
      "metadata": {
        "colab": {
          "base_uri": "https://localhost:8080/"
        },
        "id": "hBUlZ9teuKNn",
        "outputId": "0db3e699-bf29-4770-da61-b8be714ba73d"
      },
      "execution_count": null,
      "outputs": [
        {
          "output_type": "execute_result",
          "data": {
            "text/plain": [
              "2.4508856682769724"
            ]
          },
          "metadata": {},
          "execution_count": 25
        }
      ]
    },
    {
      "cell_type": "code",
      "source": [
        "forumn_data.shape"
      ],
      "metadata": {
        "colab": {
          "base_uri": "https://localhost:8080/"
        },
        "id": "WWTpy2sz2kkK",
        "outputId": "1609995c-0944-425b-ce08-bc2e3308d5dd"
      },
      "execution_count": null,
      "outputs": [
        {
          "output_type": "execute_result",
          "data": {
            "text/plain": [
              "(16755, 17)"
            ]
          },
          "metadata": {},
          "execution_count": 26
        }
      ]
    },
    {
      "cell_type": "code",
      "source": [
        "prepared_data = (forumn_data[forumn_data.no_comments>0].sample(3500).apply(prepare_data, axis=1)).values"
      ],
      "metadata": {
        "id": "6EZ-1EwCuVgE"
      },
      "execution_count": null,
      "outputs": []
    },
    {
      "cell_type": "code",
      "source": [
        "len(prepared_data)"
      ],
      "metadata": {
        "colab": {
          "base_uri": "https://localhost:8080/"
        },
        "id": "JibTDyw5utEu",
        "outputId": "35088408-162f-4aa8-b344-45dc8bdd9e48"
      },
      "execution_count": null,
      "outputs": [
        {
          "output_type": "execute_result",
          "data": {
            "text/plain": [
              "3500"
            ]
          },
          "metadata": {},
          "execution_count": 28
        }
      ]
    },
    {
      "cell_type": "code",
      "source": [
        "flattened_data = []\n",
        "for sub_list in prepared_data:\n",
        "  if sub_list is not None:\n",
        "    for item in sub_list:\n",
        "      if item is not None:\n",
        "        flattened_data.append(item)"
      ],
      "metadata": {
        "id": "w-EkH6_3zpBg"
      },
      "execution_count": null,
      "outputs": []
    },
    {
      "cell_type": "code",
      "source": [
        "len(flattened_data)"
      ],
      "metadata": {
        "colab": {
          "base_uri": "https://localhost:8080/"
        },
        "id": "sqphwWeWz-9e",
        "outputId": "27bc4405-e626-4a34-cfc4-f8ebe82d674c"
      },
      "execution_count": null,
      "outputs": [
        {
          "output_type": "execute_result",
          "data": {
            "text/plain": [
              "201838"
            ]
          },
          "metadata": {},
          "execution_count": 30
        }
      ]
    },
    {
      "cell_type": "code",
      "source": [
        "flattened_data[0]"
      ],
      "metadata": {
        "colab": {
          "base_uri": "https://localhost:8080/"
        },
        "id": "MxY1-Lq82AhR",
        "outputId": "5f086cd1-2771-47e0-93dd-a2b5399ca999"
      },
      "execution_count": null,
      "outputs": [
        {
          "output_type": "execute_result",
          "data": {
            "text/plain": [
              "{'instruction': '\\n2010 Honda Pilot \\n\\nAny word yet on color selections for the 2010 Pilot? Features/Specs? ',\n",
              " 'context': '',\n",
              " 'response': \"\\nBought a 2010 Pilot two weeks ago. Yesterday I noticed that when it is in reverse and the back up camera is on, the bottom 10-15 percent or so of the cemera's view on the screen looks obstructed. So I got out and experimented, and it appears that the handle to the back hatch is the obstruction. On the one hand, it's probably useful to have the camera aimed that low just in case something is right behind and below the car (though the handle blocks part of that view). But it still seems odd when I look at the screen to have an obstruction across the bottom.Does everyone else have this? Is it normal, or is my camera misaligned? We had this system on an Ody and it was not obstructed, but it also did not have a handle that jutted out like the Pilot. Thanks. \"}"
            ]
          },
          "metadata": {},
          "execution_count": 31
        }
      ]
    },
    {
      "cell_type": "code",
      "source": [
        "import json"
      ],
      "metadata": {
        "id": "oWqJH-bP3DaW"
      },
      "execution_count": null,
      "outputs": []
    },
    {
      "cell_type": "code",
      "source": [
        "json.dump(flattened_data, open('/content/drive/MyDrive/Colab Notebooks/edmunds_data.json','w'))"
      ],
      "metadata": {
        "id": "SgfNLh6s3KvW"
      },
      "execution_count": null,
      "outputs": []
    },
    {
      "cell_type": "code",
      "source": [],
      "metadata": {
        "id": "Z_OE99eU7D73"
      },
      "execution_count": null,
      "outputs": []
    }
  ]
}